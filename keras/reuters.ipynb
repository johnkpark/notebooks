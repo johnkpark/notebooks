{
 "cells": [
  {
   "cell_type": "code",
   "execution_count": 1,
   "metadata": {},
   "outputs": [],
   "source": [
    "from tensorflow.keras.datasets import reuters\n",
    "(train_data, train_labels), (test_data, test_labels) = reuters.load_data(num_words=10000)"
   ]
  },
  {
   "cell_type": "code",
   "execution_count": 2,
   "metadata": {},
   "outputs": [
    {
     "data": {
      "text/plain": [
       "8982"
      ]
     },
     "execution_count": 2,
     "metadata": {},
     "output_type": "execute_result"
    }
   ],
   "source": [
    "len(train_data)"
   ]
  },
  {
   "cell_type": "code",
   "execution_count": 3,
   "metadata": {},
   "outputs": [
    {
     "data": {
      "text/plain": [
       "2246"
      ]
     },
     "execution_count": 3,
     "metadata": {},
     "output_type": "execute_result"
    }
   ],
   "source": [
    "len(test_data)"
   ]
  },
  {
   "cell_type": "code",
   "execution_count": 4,
   "metadata": {},
   "outputs": [
    {
     "data": {
      "text/plain": [
       "[1,\n",
       " 245,\n",
       " 273,\n",
       " 207,\n",
       " 156,\n",
       " 53,\n",
       " 74,\n",
       " 160,\n",
       " 26,\n",
       " 14,\n",
       " 46,\n",
       " 296,\n",
       " 26,\n",
       " 39,\n",
       " 74,\n",
       " 2979,\n",
       " 3554,\n",
       " 14,\n",
       " 46,\n",
       " 4689,\n",
       " 4329,\n",
       " 86,\n",
       " 61,\n",
       " 3499,\n",
       " 4795,\n",
       " 14,\n",
       " 61,\n",
       " 451,\n",
       " 4329,\n",
       " 17,\n",
       " 12]"
      ]
     },
     "execution_count": 4,
     "metadata": {},
     "output_type": "execute_result"
    }
   ],
   "source": [
    "train_data[10]"
   ]
  },
  {
   "cell_type": "code",
   "execution_count": 5,
   "metadata": {},
   "outputs": [],
   "source": [
    "word_index = reuters.get_word_index()\n",
    "reverse_word_index = dict([(value, key) for (key, value) in word_index.items()])\n",
    "decoded_newswire = ' '.join([reverse_word_index.get(i - 3, '?') for i in train_data[0]])"
   ]
  },
  {
   "cell_type": "code",
   "execution_count": 6,
   "metadata": {},
   "outputs": [
    {
     "data": {
      "text/plain": [
       "'? ? ? said as a result of its december acquisition of space co it expects earnings per share in 1987 of 1 15 to 1 30 dlrs per share up from 70 cts in 1986 the company said pretax net should rise to nine to 10 mln dlrs from six mln dlrs in 1986 and rental operation revenues to 19 to 22 mln dlrs from 12 5 mln dlrs it said cash flow per share this year should be 2 50 to three dlrs reuter 3'"
      ]
     },
     "execution_count": 6,
     "metadata": {},
     "output_type": "execute_result"
    }
   ],
   "source": [
    "decoded_newswire"
   ]
  },
  {
   "cell_type": "code",
   "execution_count": 7,
   "metadata": {},
   "outputs": [],
   "source": [
    "# data encoding\n",
    "\n",
    "import numpy as np\n",
    "\n",
    "def vectorize_sequences(sequences, dimension=10000):\n",
    "    results = np.zeros((len(sequences), dimension))\n",
    "    for i, sequence in enumerate(sequences):\n",
    "        results[i, sequence] = 1.\n",
    "    return results\n",
    "\n",
    "x_train = vectorize_sequences(train_data)\n",
    "x_test = vectorize_sequences(test_data)"
   ]
  },
  {
   "cell_type": "code",
   "execution_count": 8,
   "metadata": {},
   "outputs": [],
   "source": [
    "def to_one_hot(labels, dimension=46):\n",
    "    results = np.zeros((len(labels), dimension))\n",
    "    for i, label in enumerate(labels):\n",
    "        results[i, label] = 1.\n",
    "    return results\n",
    "\n",
    "one_hot_train_labels = to_one_hot(train_labels)\n",
    "one_hot_test_labels = to_one_hot(test_labels)"
   ]
  },
  {
   "cell_type": "code",
   "execution_count": 9,
   "metadata": {},
   "outputs": [],
   "source": [
    "from tensorflow.keras import models, layers\n",
    "\n",
    "model = models.Sequential()\n",
    "model.add(layers.Dense(64, activation='relu', input_shape=(10000,)))\n",
    "model.add(layers.Dense(64, activation='relu'))\n",
    "model.add(layers.Dense(46, activation='softmax'))\n",
    "\n",
    "model.compile(optimizer='rmsprop', loss='categorical_crossentropy', metrics=['accuracy'])"
   ]
  },
  {
   "cell_type": "code",
   "execution_count": 10,
   "metadata": {},
   "outputs": [],
   "source": [
    "x_val = x_train[:1000]\n",
    "partial_x_train = x_train[1000:]\n",
    "\n",
    "y_val = one_hot_train_labels[:1000]\n",
    "partial_y_train = one_hot_train_labels[1000:]"
   ]
  },
  {
   "cell_type": "code",
   "execution_count": 11,
   "metadata": {},
   "outputs": [
    {
     "name": "stdout",
     "output_type": "stream",
     "text": [
      "Train on 7982 samples, validate on 1000 samples\n",
      "Epoch 1/20\n",
      "7982/7982 [==============================] - 1s 122us/sample - loss: 2.6065 - accuracy: 0.4856 - val_loss: 1.7344 - val_accuracy: 0.6250\n",
      "Epoch 2/20\n",
      "7982/7982 [==============================] - 0s 33us/sample - loss: 1.4288 - accuracy: 0.6948 - val_loss: 1.3105 - val_accuracy: 0.7140\n",
      "Epoch 3/20\n",
      "7982/7982 [==============================] - 0s 32us/sample - loss: 1.0527 - accuracy: 0.7741 - val_loss: 1.1298 - val_accuracy: 0.7480\n",
      "Epoch 4/20\n",
      "7982/7982 [==============================] - 0s 31us/sample - loss: 0.8273 - accuracy: 0.8266 - val_loss: 1.0362 - val_accuracy: 0.7740\n",
      "Epoch 5/20\n",
      "7982/7982 [==============================] - 0s 30us/sample - loss: 0.6540 - accuracy: 0.8658 - val_loss: 0.9871 - val_accuracy: 0.7940\n",
      "Epoch 6/20\n",
      "7982/7982 [==============================] - 0s 31us/sample - loss: 0.5243 - accuracy: 0.8915 - val_loss: 0.9122 - val_accuracy: 0.8130\n",
      "Epoch 7/20\n",
      "7982/7982 [==============================] - 0s 31us/sample - loss: 0.4197 - accuracy: 0.9129 - val_loss: 0.8914 - val_accuracy: 0.8190\n",
      "Epoch 8/20\n",
      "7982/7982 [==============================] - 0s 31us/sample - loss: 0.3396 - accuracy: 0.9278 - val_loss: 0.8948 - val_accuracy: 0.8220\n",
      "Epoch 9/20\n",
      "7982/7982 [==============================] - 0s 30us/sample - loss: 0.2821 - accuracy: 0.9399 - val_loss: 0.9281 - val_accuracy: 0.8120\n",
      "Epoch 10/20\n",
      "7982/7982 [==============================] - 0s 30us/sample - loss: 0.2372 - accuracy: 0.9469 - val_loss: 0.9034 - val_accuracy: 0.8280\n",
      "Epoch 11/20\n",
      "7982/7982 [==============================] - 0s 31us/sample - loss: 0.2053 - accuracy: 0.9499 - val_loss: 0.9357 - val_accuracy: 0.8220\n",
      "Epoch 12/20\n",
      "7982/7982 [==============================] - 0s 31us/sample - loss: 0.1806 - accuracy: 0.9535 - val_loss: 0.9590 - val_accuracy: 0.8100\n",
      "Epoch 13/20\n",
      "7982/7982 [==============================] - 0s 31us/sample - loss: 0.1661 - accuracy: 0.9531 - val_loss: 0.9331 - val_accuracy: 0.8260\n",
      "Epoch 14/20\n",
      "7982/7982 [==============================] - 0s 31us/sample - loss: 0.1500 - accuracy: 0.9534 - val_loss: 0.9882 - val_accuracy: 0.8160\n",
      "Epoch 15/20\n",
      "7982/7982 [==============================] - 0s 31us/sample - loss: 0.1372 - accuracy: 0.9558 - val_loss: 1.0212 - val_accuracy: 0.7990\n",
      "Epoch 16/20\n",
      "7982/7982 [==============================] - 0s 31us/sample - loss: 0.1313 - accuracy: 0.9558 - val_loss: 1.0434 - val_accuracy: 0.8110\n",
      "Epoch 17/20\n",
      "7982/7982 [==============================] - 0s 31us/sample - loss: 0.1237 - accuracy: 0.9573 - val_loss: 1.0168 - val_accuracy: 0.8140\n",
      "Epoch 18/20\n",
      "7982/7982 [==============================] - 0s 31us/sample - loss: 0.1203 - accuracy: 0.9569 - val_loss: 1.0087 - val_accuracy: 0.8090\n",
      "Epoch 19/20\n",
      "7982/7982 [==============================] - 0s 31us/sample - loss: 0.1128 - accuracy: 0.9583 - val_loss: 1.0827 - val_accuracy: 0.8030\n",
      "Epoch 20/20\n",
      "7982/7982 [==============================] - 0s 29us/sample - loss: 0.1121 - accuracy: 0.9604 - val_loss: 1.0875 - val_accuracy: 0.8100\n"
     ]
    }
   ],
   "source": [
    "history = model.fit(partial_x_train, partial_y_train, epochs=20, batch_size=512, validation_data=(x_val, y_val))"
   ]
  },
  {
   "cell_type": "code",
   "execution_count": 12,
   "metadata": {},
   "outputs": [
    {
     "data": {
      "image/png": "[encoded data removed]",
      "text/plain": [
       "<Figure size 432x288 with 1 Axes>"
      ]
     },
     "metadata": {
      "needs_background": "light"
     },
     "output_type": "display_data"
    }
   ],
   "source": [
    "import matplotlib.pyplot as plt\n",
    "\n",
    "loss = history.history['loss']\n",
    "val_loss = history.history['val_loss']\n",
    "\n",
    "epochs = range(1, len(loss) + 1)\n",
    "\n",
    "plt.plot(epochs, loss, 'bo', label='Training loss')\n",
    "plt.plot(epochs, val_loss, 'b', label='Validation loss')\n",
    "plt.title('Training and validation loss')\n",
    "plt.xlabel('Epochs')\n",
    "plt.ylabel('Loss')\n",
    "plt.legend()\n",
    "\n",
    "plt.show()"
   ]
  },
  {
   "cell_type": "code",
   "execution_count": 13,
   "metadata": {},
   "outputs": [
    {
     "data": {
      "image/png": "[encoded data removed]",
      "text/plain": [
       "<Figure size 432x288 with 1 Axes>"
      ]
     },
     "metadata": {
      "needs_background": "light"
     },
     "output_type": "display_data"
    }
   ],
   "source": [
    "plt.clf()\n",
    "\n",
    "acc = history.history['accuracy']\n",
    "val_acc = history.history['val_accuracy']\n",
    "\n",
    "plt.plot(epochs, acc, 'bo', label='Training acc')\n",
    "plt.plot(epochs, val_acc, 'b', label='Validation acc')\n",
    "plt.title('Training and validation accuracy')\n",
    "plt.xlabel('Epochs')\n",
    "plt.ylabel('Loss')\n",
    "plt.legend()\n",
    "\n",
    "plt.show()"
   ]
  },
  {
   "cell_type": "code",
   "execution_count": 14,
   "metadata": {},
   "outputs": [
    {
     "name": "stdout",
     "output_type": "stream",
     "text": [
      "Train on 7982 samples, validate on 1000 samples\n",
      "Epoch 1/9\n",
      "7982/7982 [==============================] - 1s 81us/sample - loss: 2.6237 - accuracy: 0.5355 - val_loss: 1.6698 - val_accuracy: 0.6520\n",
      "Epoch 2/9\n",
      "7982/7982 [==============================] - 0s 31us/sample - loss: 1.3800 - accuracy: 0.6998 - val_loss: 1.2816 - val_accuracy: 0.7060\n",
      "Epoch 3/9\n",
      "7982/7982 [==============================] - 0s 31us/sample - loss: 1.0367 - accuracy: 0.7755 - val_loss: 1.1267 - val_accuracy: 0.7340\n",
      "Epoch 4/9\n",
      "7982/7982 [==============================] - 0s 31us/sample - loss: 0.8160 - accuracy: 0.8249 - val_loss: 1.0439 - val_accuracy: 0.7710\n",
      "Epoch 5/9\n",
      "7982/7982 [==============================] - 0s 31us/sample - loss: 0.6535 - accuracy: 0.8614 - val_loss: 0.9784 - val_accuracy: 0.7780\n",
      "Epoch 6/9\n",
      "7982/7982 [==============================] - 0s 31us/sample - loss: 0.5213 - accuracy: 0.8926 - val_loss: 0.9846 - val_accuracy: 0.7850\n",
      "Epoch 7/9\n",
      "7982/7982 [==============================] - 0s 31us/sample - loss: 0.4255 - accuracy: 0.9112 - val_loss: 0.8968 - val_accuracy: 0.8170\n",
      "Epoch 8/9\n",
      "7982/7982 [==============================] - 0s 31us/sample - loss: 0.3400 - accuracy: 0.9273 - val_loss: 0.9660 - val_accuracy: 0.7910\n",
      "Epoch 9/9\n",
      "7982/7982 [==============================] - 0s 29us/sample - loss: 0.2863 - accuracy: 0.9377 - val_loss: 0.9111 - val_accuracy: 0.8010\n",
      "2246/2246 [==============================] - 0s 63us/sample - loss: 1.0266 - accuracy: 0.7818\n"
     ]
    }
   ],
   "source": [
    "model = models.Sequential()\n",
    "model.add(layers.Dense(64, activation='relu', input_shape=(10000,)))\n",
    "model.add(layers.Dense(64, activation='relu'))\n",
    "model.add(layers.Dense(46, activation='softmax'))\n",
    "\n",
    "model.compile(optimizer='rmsprop', loss='categorical_crossentropy', metrics=['accuracy'])\n",
    "model.fit(partial_x_train, partial_y_train, epochs=9, batch_size=512, validation_data=(x_val, y_val))\n",
    "\n",
    "results = model.evaluate(x_test, one_hot_test_labels)"
   ]
  },
  {
   "cell_type": "code",
   "execution_count": 15,
   "metadata": {},
   "outputs": [
    {
     "data": {
      "text/plain": [
       "[1.0265715619016733, 0.78183436]"
      ]
     },
     "execution_count": 15,
     "metadata": {},
     "output_type": "execute_result"
    }
   ],
   "source": [
    "results"
   ]
  },
  {
   "cell_type": "code",
   "execution_count": 16,
   "metadata": {},
   "outputs": [
    {
     "data": {
      "text/plain": [
       "0.18432769367764915"
      ]
     },
     "execution_count": 16,
     "metadata": {},
     "output_type": "execute_result"
    }
   ],
   "source": [
    "# random shuffling yields 18% accuracy compared to ~80% accuracy of the model\n",
    "\n",
    "import copy\n",
    "test_labels_copy = copy.copy(test_labels)\n",
    "np.random.shuffle(test_labels_copy)\n",
    "hits_array = np.array(test_labels) == np.array(test_labels_copy)\n",
    "float(np.sum(hits_array)) / len(test_labels)"
   ]
  },
  {
   "cell_type": "code",
   "execution_count": 17,
   "metadata": {},
   "outputs": [],
   "source": [
    "predictions = model.predict(x_test)"
   ]
  },
  {
   "cell_type": "code",
   "execution_count": 18,
   "metadata": {},
   "outputs": [
    {
     "data": {
      "text/plain": [
       "(46,)"
      ]
     },
     "execution_count": 18,
     "metadata": {},
     "output_type": "execute_result"
    }
   ],
   "source": [
    "predictions[0].shape"
   ]
  },
  {
   "cell_type": "code",
   "execution_count": 19,
   "metadata": {},
   "outputs": [
    {
     "data": {
      "text/plain": [
       "0.99999994"
      ]
     },
     "execution_count": 19,
     "metadata": {},
     "output_type": "execute_result"
    }
   ],
   "source": [
    "np.sum(predictions[0])"
   ]
  },
  {
   "cell_type": "code",
   "execution_count": 20,
   "metadata": {},
   "outputs": [
    {
     "data": {
      "text/plain": [
       "3"
      ]
     },
     "execution_count": 20,
     "metadata": {},
     "output_type": "execute_result"
    }
   ],
   "source": [
    "np.argmax(predictions[0])"
   ]
  },
  {
   "cell_type": "code",
   "execution_count": 21,
   "metadata": {},
   "outputs": [],
   "source": [
    "y_train = np.array(train_labels)\n",
    "y_test = np.array(test_labels)"
   ]
  },
  {
   "cell_type": "code",
   "execution_count": 22,
   "metadata": {},
   "outputs": [
    {
     "data": {
      "text/plain": [
       "array([ 3,  4,  3, ..., 25,  3, 25])"
      ]
     },
     "execution_count": 22,
     "metadata": {},
     "output_type": "execute_result"
    }
   ],
   "source": [
    "y_train"
   ]
  },
  {
   "cell_type": "code",
   "execution_count": 23,
   "metadata": {},
   "outputs": [
    {
     "name": "stdout",
     "output_type": "stream",
     "text": [
      "Train on 7982 samples, validate on 1000 samples\n",
      "Epoch 1/9\n",
      "7982/7982 [==============================] - 1s 102us/sample - loss: 2.7960 - accuracy: 0.4508 - val_loss: 1.8970 - val_accuracy: 0.6190\n",
      "Epoch 2/9\n",
      "7982/7982 [==============================] - 0s 32us/sample - loss: 1.5592 - accuracy: 0.6853 - val_loss: 1.3752 - val_accuracy: 0.7080\n",
      "Epoch 3/9\n",
      "7982/7982 [==============================] - 0s 32us/sample - loss: 1.1309 - accuracy: 0.7677 - val_loss: 1.1875 - val_accuracy: 0.7400\n",
      "Epoch 4/9\n",
      "7982/7982 [==============================] - 0s 32us/sample - loss: 0.8911 - accuracy: 0.8178 - val_loss: 1.0621 - val_accuracy: 0.7860\n",
      "Epoch 5/9\n",
      "7982/7982 [==============================] - 0s 31us/sample - loss: 0.7123 - accuracy: 0.8561 - val_loss: 0.9895 - val_accuracy: 0.8040\n",
      "Epoch 6/9\n",
      "7982/7982 [==============================] - 0s 32us/sample - loss: 0.5723 - accuracy: 0.8854 - val_loss: 0.9381 - val_accuracy: 0.8130\n",
      "Epoch 7/9\n",
      "7982/7982 [==============================] - 0s 32us/sample - loss: 0.4609 - accuracy: 0.9075 - val_loss: 0.9171 - val_accuracy: 0.8180\n",
      "Epoch 8/9\n",
      "7982/7982 [==============================] - 0s 32us/sample - loss: 0.3756 - accuracy: 0.9245 - val_loss: 0.9103 - val_accuracy: 0.8060\n",
      "Epoch 9/9\n",
      "7982/7982 [==============================] - 0s 30us/sample - loss: 0.3118 - accuracy: 0.9347 - val_loss: 0.9078 - val_accuracy: 0.8130\n",
      "2246/2246 [==============================] - 0s 64us/sample - loss: 0.9920 - accuracy: 0.7823\n"
     ]
    }
   ],
   "source": [
    "# test model with significantly smaller number of layers i.e. 4\n",
    "\n",
    "from tensorflow.keras import models, layers\n",
    "\n",
    "model = models.Sequential()\n",
    "model.add(layers.Dense(64, activation='relu', input_shape=(10000,)))\n",
    "model.add(layers.Dense(64, activation='relu'))\n",
    "model.add(layers.Dense(46, activation='softmax'))\n",
    "\n",
    "model.compile(optimizer='rmsprop', loss='categorical_crossentropy', metrics=['accuracy'])\n",
    "model.fit(partial_x_train, partial_y_train, epochs=9, batch_size=512, validation_data=(x_val, y_val))\n",
    "\n",
    "results = model.evaluate(x_test, one_hot_test_labels)"
   ]
  },
  {
   "cell_type": "code",
   "execution_count": null,
   "metadata": {},
   "outputs": [],
   "source": []
  },
  {
   "cell_type": "code",
   "execution_count": null,
   "metadata": {},
   "outputs": [],
   "source": []
  },
  {
   "cell_type": "code",
   "execution_count": null,
   "metadata": {},
   "outputs": [],
   "source": []
  },
  {
   "cell_type": "code",
   "execution_count": null,
   "metadata": {},
   "outputs": [],
   "source": []
  },
  {
   "cell_type": "code",
   "execution_count": null,
   "metadata": {},
   "outputs": [],
   "source": []
  },
  {
   "cell_type": "code",
   "execution_count": null,
   "metadata": {},
   "outputs": [],
   "source": []
  },
  {
   "cell_type": "code",
   "execution_count": null,
   "metadata": {},
   "outputs": [],
   "source": []
  }
 ],
 "metadata": {
  "kernelspec": {
   "display_name": "Python (User)",
   "language": "python",
   "name": "user_python"
  },
  "language_info": {
   "codemirror_mode": {
    "name": "ipython",
    "version": 3
   },
   "file_extension": ".py",
   "mimetype": "text/x-python",
   "name": "python",
   "nbconvert_exporter": "python",
   "pygments_lexer": "ipython3",
   "version": "3.6.10"
  }
 },
 "nbformat": 4,
 "nbformat_minor": 4
}
